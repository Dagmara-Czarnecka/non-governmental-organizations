{
  "nbformat": 4,
  "nbformat_minor": 0,
  "metadata": {
    "colab": {
      "provenance": [],
      "authorship_tag": "ABX9TyM5Bc6S925QEvIGNFCgyWhW",
      "include_colab_link": true
    },
    "kernelspec": {
      "name": "python3",
      "display_name": "Python 3"
    },
    "language_info": {
      "name": "python"
    }
  },
  "cells": [
    {
      "cell_type": "markdown",
      "metadata": {
        "id": "view-in-github",
        "colab_type": "text"
      },
      "source": [
        "<a href=\"https://colab.research.google.com/github/Dagmara-Czarnecka/non-governmental-organizations/blob/main/non_governmental_organizations.ipynb\" target=\"_parent\"><img src=\"https://colab.research.google.com/assets/colab-badge.svg\" alt=\"Open In Colab\"/></a>"
      ]
    },
    {
      "cell_type": "code",
      "execution_count": 1,
      "metadata": {
        "colab": {
          "base_uri": "https://localhost:8080/"
        },
        "id": "y-l5kyQ-qfHw",
        "outputId": "ce99293d-a097-45c1-fd74-599e989bf689"
      },
      "outputs": [
        {
          "output_type": "stream",
          "name": "stdout",
          "text": [
            "Znaleziono 7 organizacji\n"
          ]
        }
      ],
      "source": [
        "import requests\n",
        "from bs4 import BeautifulSoup\n",
        "\n",
        "URL = 'https://spis.ngo.pl/?cat[2384]=2753'\n",
        "\n",
        "response = requests.get(URL)\n",
        "category = BeautifulSoup(response.text, 'html.parser')\n",
        "\n",
        "list_of_organizations = category.select_one('div.relative.mb5')\n",
        "\n",
        "print('Znaleziono', len(list_of_organizations), 'organizacji')\n"
      ]
    },
    {
      "cell_type": "code",
      "source": [
        "organizations = list_of_organizations.select('li.pv3.bb')\n"
      ],
      "metadata": {
        "id": "Kg70Z2FAqmHZ"
      },
      "execution_count": 2,
      "outputs": []
    },
    {
      "cell_type": "code",
      "source": [
        "urls = []\n",
        "\n",
        "for organization in organizations:\n",
        "    urls.append(\n",
        "        organization.select_one('a')['href']\n",
        "    )\n"
      ],
      "metadata": {
        "id": "a-j2GI3cqokw"
      },
      "execution_count": 3,
      "outputs": []
    },
    {
      "cell_type": "code",
      "source": [
        "from selenium.webdriver import Firefox  #you can also use a different browser\n",
        "from selenium.webdriver.firefox.service import Service\n",
        "from selenium.common.exceptions import NoSuchElementException\n",
        "\n",
        "def get_organization_data(url):\n",
        "    data = {\n",
        "        'Adres email': '',\n",
        "        'Adresy www': [],\n",
        "        'Telefony': [],\n",
        "        'KRS': '',\n",
        "        'REGON': '',\n",
        "        'NIP': '',\n",
        "        'Rok powstania': '',\n",
        "    }\n",
        "\n",
        "    service = Service('./geckodriver') # correct the path if necessary\n",
        "    browser = Firefox(service=service)  \n",
        "    browser.get(url)\n",
        "\n",
        "    table = browser.find_element('css selector', 'div.ba.b--light-gray.pa3.pt0')\n",
        "    rows = table.find_elements('css selector','div.f7-f6-xl')\n",
        "\n",
        "\n",
        "    for row in rows:\n",
        "        try:\n",
        "            label = row.find_element('css selector', '.pr2')\n",
        "            value = row.find_element('css selector', '.tr.grow-1')\n",
        "        except NoSuchElementException:\n",
        "\n",
        "            continue\n",
        "\n",
        " \n",
        "        if label.text == 'E-mail':\n",
        "            value.find_element('tag name','span').click()\n",
        "            data['Adres email'] = value.text\n",
        "\n",
        "   \n",
        "        elif label.text == 'Telefon':\n",
        "            data['Telefony'].append(value.text)\n",
        "\n",
        "        elif label.text == 'WWW':\n",
        "            data['Adresy www'].append(value.text)\n",
        "\n",
        "        elif label.text == 'KRS':\n",
        "            data['KRS'] = value.text\n",
        "\n",
        "        elif label.text == 'REGON':\n",
        "            data['REGON'] = value.text\n",
        "\n",
        "        elif label.text == 'NIP':\n",
        "            data['NIP'] = value.text\n",
        "\n",
        "        elif label.text == 'Rok powstania':\n",
        "            data['Rok powstania'] = value.text\n",
        "\n",
        "    \n",
        "    browser.quit()\n",
        "    return data\n"
      ],
      "metadata": {
        "id": "FRSZahXVrO6v"
      },
      "execution_count": null,
      "outputs": []
    },
    {
      "cell_type": "code",
      "source": [
        "import csv\n",
        "\n",
        "with open('report.csv', 'w', newline='') as csvfile:\n",
        "    writer = csv.writer(csvfile)\n",
        "\n",
        "    for organization_url in urls:\n",
        "        data = get_organization_data(organization_url)\n",
        "        writer.writerow([\n",
        "            data['Adres email'],\n",
        "            ' '.join(data['Adresy www']),\n",
        "            ', '.join(data['Telefony']),\n",
        "            data['KRS'],\n",
        "            data['REGON'],\n",
        "            data['NIP'],\n",
        "            data['Rok powstania'],\n",
        "        ])\n"
      ],
      "metadata": {
        "id": "-mMyNjewrpcU"
      },
      "execution_count": null,
      "outputs": []
    }
  ]
}